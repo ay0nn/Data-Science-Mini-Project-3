{
  "nbformat": 4,
  "nbformat_minor": 0,
  "metadata": {
    "colab": {
      "provenance": [],
      "collapsed_sections": [],
      "private_outputs": true,
      "authorship_tag": "ABX9TyNEpmVfO7L3kVUSDx3yClp5",
      "include_colab_link": true
    },
    "kernelspec": {
      "name": "python3",
      "display_name": "Python 3"
    },
    "language_info": {
      "name": "python"
    },
    "gpuClass": "standard"
  },
  "cells": [
    {
      "cell_type": "markdown",
      "metadata": {
        "id": "view-in-github",
        "colab_type": "text"
      },
      "source": [
        "<a href=\"https://colab.research.google.com/github/ay0nn/Data-Science-Mini-Project-3/blob/main/Mini_Project_3.ipynb\" target=\"_parent\"><img src=\"https://colab.research.google.com/assets/colab-badge.svg\" alt=\"Open In Colab\"/></a>"
      ]
    },
    {
      "cell_type": "code",
      "execution_count": null,
      "metadata": {
        "id": "vuNQ5ydP736r"
      },
      "outputs": [],
      "source": [
        "import tweepy\n",
        "import pandas as pd \n",
        "import re    \n",
        "import matplotlib.pyplot as plt\n",
        "from textblob import TextBlob\n",
        "from wordcloud import WordCloud, STOPWORDS\n",
        "import warnings\n",
        "warnings.filterwarnings('ignore')\n",
        "from sklearn.feature_extraction.text import CountVectorizer\n",
        "from sklearn.model_selection import train_test_split\n",
        "from sklearn.linear_model import LogisticRegression\n",
        "from sklearn.metrics import accuracy_score, classification_report, confusion_matrix, ConfusionMatrixDisplay"
      ]
    },
    {
      "cell_type": "code",
      "source": [
        "API_KEY= \"3qUOJK9fEJZsMmvbJLy2Cio9T\"\n",
        "API_SECRET = \"MPtQYb9AGZo2ZbJYj96Qw3xyOHB8ecuXTu4fab6877DzcoKeeK\"\n",
        "ACCESS_TOKEN  = \"3109157633-hQy1i7aEeiJheyhejcOOWqeRJ57vaGFeJWXI3p2\"\n",
        "ACCESS_TOKEN_SECRET = \"kgcXJ6KuNIOp2xQD9YhjeiAT59VLUvxpBBlCaOX58t0E6\"\n",
        "\n",
        "auth = tweepy.OAuthHandler(API_KEY, API_SECRET)\n",
        "auth.set_access_token(ACCESS_TOKEN, ACCESS_TOKEN_SECRET)\n",
        "\n",
        "api = tweepy.API(auth, wait_on_rate_limit= True)"
      ],
      "metadata": {
        "id": "bp2RoPhgDsRC"
      },
      "execution_count": null,
      "outputs": []
    },
    {
      "cell_type": "markdown",
      "source": [
        "Upcoming Qatar Football WC 2022 sentiment analysis"
      ],
      "metadata": {
        "id": "u-3TFueAJtz6"
      }
    },
    {
      "cell_type": "code",
      "source": [
        "search_term = '#qatar2022worldcup -filter:retweets'\n",
        "tweets = tweepy.Cursor(api.search, q=search_term,lang= 'en', tweet_mode='extended',since=\"2018-01-01\").items(5000)\n",
        "all_tweets = [{'Tweets':tweet.full_text, 'Time Stamp':tweet.created_at}for tweet in tweets]\n",
        "#print(all_tweets)"
      ],
      "metadata": {
        "id": "953Usys2JDmh"
      },
      "execution_count": null,
      "outputs": []
    },
    {
      "cell_type": "code",
      "source": [
        "df= pd.DataFrame(all_tweets)\n",
        "df.head()           "
      ],
      "metadata": {
        "id": "e8xcbjxKvZDg"
      },
      "execution_count": null,
      "outputs": []
    },
    {
      "cell_type": "code",
      "source": [
        "#df.isnull() "
      ],
      "metadata": {
        "id": "9tpi30XsN__V"
      },
      "execution_count": null,
      "outputs": []
    },
    {
      "cell_type": "code",
      "source": [
        "#Filtering Tweets\n",
        "def filtering(tw):\n",
        "  tw = re.sub('#qatar2022worldcup','qatar2022worldcup',tw)\n",
        "  tw = re.sub('#Qatar2022worldcup','Qatar2022Worldcup',tw)\n",
        "  tw = re.sub('#[A-Za-z0-9]+','',tw)\n",
        "  tw = re.sub(\"(\\s\\d+)\",\"\",tw)\n",
        "  tw = re.sub('\\\\n','',tw)\n",
        "  tw = re.sub('https?:\\/\\/\\S+','',tw)\n",
        "  return tw"
      ],
      "metadata": {
        "id": "PngsYFurs0qV"
      },
      "execution_count": null,
      "outputs": []
    },
    {
      "cell_type": "code",
      "source": [
        "df['Filtered Tweets'] = df['Tweets'].apply(filtering)\n",
        "df.head(10)"
      ],
      "metadata": {
        "id": "m8xCqtJ5v-Oz"
      },
      "execution_count": null,
      "outputs": []
    },
    {
      "cell_type": "code",
      "source": [
        "#df.tail(5)"
      ],
      "metadata": {
        "id": "vw82Bmw_y8_u"
      },
      "execution_count": null,
      "outputs": []
    },
    {
      "cell_type": "code",
      "source": [
        "allwords = ' '.join([tweets for tweets in df['Filtered Tweets']])\n",
        "stopwords = set(STOPWORDS)\n",
        "wordCloud = WordCloud(width = 800, height=500,stopwords = stopwords, random_state = 21,\n",
        "                max_font_size=120).generate(allwords)\n",
        "plt.figure(figsize = (10, 10), facecolor = None)\n",
        "plt.imshow(wordCloud)\n",
        "plt.axis(\"off\")\n",
        "plt.tight_layout(pad = 0)"
      ],
      "metadata": {
        "id": "2sLE-9CF1DnO"
      },
      "execution_count": null,
      "outputs": []
    },
    {
      "cell_type": "code",
      "source": [
        "def getSubjectivityF(twt):\n",
        "  return TextBlob(twt).sentiment.subjectivity\n",
        "\n",
        "def getPolarityF(twt):\n",
        "  return TextBlob(twt).sentiment.polarity  \n",
        "\n",
        "df['Subjectivity'] = df['Filtered Tweets'].apply(getSubjectivityF)\n",
        "\n",
        "df['Polarity'] = df['Filtered Tweets'].apply(getPolarityF)\n",
        "\n",
        "#df.tail(10)"
      ],
      "metadata": {
        "id": "mLOwwb-F1kPL"
      },
      "execution_count": null,
      "outputs": []
    },
    {
      "cell_type": "code",
      "source": [
        "def getSentiment(score):\n",
        "  if score < 0:\n",
        "    return 'Negative'\n",
        "  elif score == 0:\n",
        "    return 'Neutral'\n",
        "  else:\n",
        "    return 'Positive'\n"
      ],
      "metadata": {
        "id": "gMddXXfn-1O0"
      },
      "execution_count": null,
      "outputs": []
    },
    {
      "cell_type": "code",
      "source": [
        "df['Sentiment'] = df['Polarity'].apply(getSentiment)\n",
        "df.head()"
      ],
      "metadata": {
        "id": "mnhh43JA_gvJ"
      },
      "execution_count": null,
      "outputs": []
    },
    {
      "cell_type": "code",
      "source": [
        "plt.figure(figsize=(8,6))\n",
        "for i in range(0, df.shape[0]):\n",
        "  plt.scatter(df['Polarity'][i], df['Subjectivity'][i], color='green')\n",
        "plt.title('Sentiment Analysis of Qatar World Cup 2022')\n",
        "plt.xlabel('Polarity')\n",
        "plt.ylabel('Subjectivity')\n",
        "plt.show()"
      ],
      "metadata": {
        "id": "yTM1RGyrB5Ic"
      },
      "execution_count": null,
      "outputs": []
    },
    {
      "cell_type": "code",
      "source": [
        "df['Sentiment'].value_counts().plot(kind='bar')\n",
        "plt.title('Sentiment Analysis Bar plot')\n",
        "plt.xlabel('Sentiment')\n",
        "plt.ylabel('No of tweets')\n",
        "plt.show()"
      ],
      "metadata": {
        "id": "37l4JLpADQIv"
      },
      "execution_count": null,
      "outputs": []
    },
    {
      "cell_type": "code",
      "source": [
        "fig = plt.figure(figsize=(8,8))\n",
        "colors = (\"green\", \"gold\", \"red\")\n",
        "tags = df['Sentiment'].value_counts()\n",
        "\n",
        "explode = (0.1,0.1,0.1)\n",
        "tags.plot(kind='pie', autopct='%1.1f%%', shadow=True, colors = colors,\n",
        "         startangle=90, explode = explode, label='')\n",
        "\n",
        "plt.title('Percentages of Qatar Football WC 2022 Sentiments')"
      ],
      "metadata": {
        "id": "FTsxZhztZgrT"
      },
      "execution_count": null,
      "outputs": []
    },
    {
      "cell_type": "code",
      "source": [
        "neg_tweets = df[df.Sentiment == 'Negative']\n",
        "neg_tweets = neg_tweets.sort_values(['Polarity'], ascending= False)\n",
        "neg_tweets.head()"
      ],
      "metadata": {
        "id": "zJK1FICy0ELh"
      },
      "execution_count": null,
      "outputs": []
    },
    {
      "cell_type": "code",
      "source": [],
      "metadata": {
        "id": "Qcosrnxq0hDu"
      },
      "execution_count": null,
      "outputs": []
    },
    {
      "cell_type": "markdown",
      "source": [
        "Sentimental Analysis for t20 Cricket Worldcup2022:"
      ],
      "metadata": {
        "id": "FjOCP4yHICSU"
      }
    },
    {
      "cell_type": "code",
      "source": [
        "search_term = '#t20worldcup22 -filter:retweets'\n",
        "Ctweets = tweepy.Cursor(api.search, q=search_term, tweet_mode='extended', lang = \"en\",since=\"2021-01-01\").items(5000)\n",
        "all_t20w = [{'Tweets':tweet.full_text,'Time Stamp':tweet.created_at}for tweet in Ctweets]\n",
        "print(all_t20w)"
      ],
      "metadata": {
        "id": "EQ5DDmzc_8M9"
      },
      "execution_count": null,
      "outputs": []
    },
    {
      "cell_type": "code",
      "source": [
        "dt= pd.DataFrame(all_t20w)\n",
        "dt.head(10)  "
      ],
      "metadata": {
        "id": "TVv-hIyJ6gjw"
      },
      "execution_count": null,
      "outputs": []
    },
    {
      "cell_type": "code",
      "source": [
        "#Filtering Tweets\n",
        "def filtering(tw):\n",
        "  tw = re.sub('#t20worldcup22','t20worldcup22',tw)\n",
        "  tw = re.sub('#T20worldcup22','T20worldcup22',tw)\n",
        "  tw = re.sub('#[A-Za-z0-9]+','',tw)\n",
        "  tw = re.sub('Telegram+','',tw)\n",
        "  tw = re.sub('Amazon+','',tw)\n",
        "  tw = re.sub('Flipkart+','',tw)\n",
        "  tw = re.sub('\\\\n','',tw)\n",
        "  tw = re.sub('https?:\\/\\/\\S+','',tw)\n",
        "  return tw"
      ],
      "metadata": {
        "id": "8-5Hbb5NBaUr"
      },
      "execution_count": null,
      "outputs": []
    },
    {
      "cell_type": "code",
      "source": [
        "dt['Filtered cTweets'] = dt['Tweets'].apply(filtering)\n",
        "dt.head(10)"
      ],
      "metadata": {
        "id": "lap29i2dBi0j"
      },
      "execution_count": null,
      "outputs": []
    },
    {
      "cell_type": "code",
      "source": [
        "allwords = ' '.join([tweets for tweets in dt['Filtered cTweets']])\n",
        "stopwords = set(STOPWORDS)\n",
        "wordCloud = WordCloud(width = 800, height=500,stopwords = stopwords, background_color='white',\n",
        "        max_words=300, random_state = 21,\n",
        "                max_font_size=120).generate(allwords)\n",
        "\n",
        "plt.figure(figsize = (10, 10), facecolor = None)\n",
        "plt.imshow(wordCloud)\n",
        "plt.axis(\"off\")\n",
        "plt.tight_layout(pad = 0)"
      ],
      "metadata": {
        "id": "wJEgb3odBsw-"
      },
      "execution_count": null,
      "outputs": []
    },
    {
      "cell_type": "code",
      "source": [
        "import textblob\n",
        "def getSubjectivityC(twt):\n",
        "  return TextBlob(twt).sentiment.subjectivity\n",
        "\n",
        "def getPolarityC(twt):\n",
        "  return TextBlob(twt).sentiment.polarity  \n",
        "\n",
        "dt['Subjectivity'] = dt['Filtered cTweets'].apply(getSubjectivityC)\n",
        "\n",
        "dt['Polarity'] = dt['Filtered cTweets'].apply(getPolarityC)"
      ],
      "metadata": {
        "id": "MrtqPYJo458j"
      },
      "execution_count": null,
      "outputs": []
    },
    {
      "cell_type": "code",
      "source": [
        "def getSentimentC(score):\n",
        "  if score < 0:\n",
        "    return 'Negative'\n",
        "  elif score ==0:\n",
        "    return 'Neutral'\n",
        "  else:\n",
        "    return 'Positive'"
      ],
      "metadata": {
        "id": "RFKlVW4ETD1k"
      },
      "execution_count": null,
      "outputs": []
    },
    {
      "cell_type": "code",
      "source": [
        "dt['Sentiment'] = dt['Polarity'].apply(getSentimentC)\n",
        "dt.head()"
      ],
      "metadata": {
        "id": "9AbRDDQrTNoh"
      },
      "execution_count": null,
      "outputs": []
    },
    {
      "cell_type": "code",
      "source": [
        "plt.figure(figsize=(10,8))\n",
        "for i in range(0, dt.shape[0]):\n",
        "  plt.scatter(dt['Polarity'][i], dt['Subjectivity'][i], color='red')\n",
        "plt.title('Sentiment Analysis of T20 Cricket World Cup 2022')\n",
        "plt.xlabel('Polarity')\n",
        "plt.ylabel('Subjectivity')\n",
        "plt.show()"
      ],
      "metadata": {
        "id": "6GMeHfz5Tcoy"
      },
      "execution_count": null,
      "outputs": []
    },
    {
      "cell_type": "code",
      "source": [
        "dt['Sentiment'].value_counts().plot(kind='bar')\n",
        "plt.title('Sentiment Analysis Bar plot')\n",
        "plt.xlabel('Sentiment')\n",
        "plt.ylabel('No of tweets')\n",
        "plt.show()"
      ],
      "metadata": {
        "id": "5WngQ29ATtQv"
      },
      "execution_count": null,
      "outputs": []
    },
    {
      "cell_type": "code",
      "source": [
        "fig = plt.figure(figsize=(8,8))\n",
        "colors = (\"green\", \"gold\", \"maroon\")\n",
        "tags = dt['Sentiment'].value_counts()\n",
        "\n",
        "explode = (0.1,0.1,0.1)\n",
        "tags.plot(kind='pie', autopct='%1.1f%%', shadow=True, colors = colors,\n",
        "         startangle=90, explode = explode, label='')\n",
        "\n",
        "plt.title('Percentages of Cricket WC Sentiments')"
      ],
      "metadata": {
        "id": "uGA307kEyJba"
      },
      "execution_count": null,
      "outputs": []
    },
    {
      "cell_type": "code",
      "source": [
        "neg_tweets = dt[dt.Sentiment == 'Negative']\n",
        "neg_tweets = neg_tweets.sort_values(['Polarity'], ascending= False)\n",
        "neg_tweets.tail()"
      ],
      "metadata": {
        "id": "sURzw3hKzH_2"
      },
      "execution_count": null,
      "outputs": []
    },
    {
      "cell_type": "code",
      "source": [
        "vect = CountVectorizer(ngram_range=(1,2)).fit(dt['Tweets'])"
      ],
      "metadata": {
        "id": "jZWmKRQD2dh7"
      },
      "execution_count": null,
      "outputs": []
    },
    {
      "cell_type": "code",
      "source": [
        "feature_names = vect.get_feature_names()\n",
        "print(\"Number of features: {}\\n\".format(len(feature_names)))\n",
        "print(\"First 20 features:\\n {}\".format(feature_names[:20]))"
      ],
      "metadata": {
        "id": "LTwqrGA_3d9D"
      },
      "execution_count": null,
      "outputs": []
    },
    {
      "cell_type": "code",
      "source": [
        "X = dt['Tweets']\n",
        "Y = dt['Sentiment']\n",
        "X = vect.transform(X)"
      ],
      "metadata": {
        "id": "SmYYMiRe3syQ"
      },
      "execution_count": null,
      "outputs": []
    },
    {
      "cell_type": "code",
      "source": [
        "x_train, x_test, y_train, y_test = train_test_split(X, Y, test_size=0.2, random_state=42)"
      ],
      "metadata": {
        "id": "pe-bIGlL32Cu"
      },
      "execution_count": null,
      "outputs": []
    },
    {
      "cell_type": "code",
      "source": [
        "print(\"Size of x_train:\", (x_train.shape))\n",
        "print(\"Size of y_train:\", (y_train.shape))\n",
        "print(\"Size of x_test:\", (x_test.shape))\n",
        "print(\"Size of y_test:\", (y_test.shape))"
      ],
      "metadata": {
        "id": "XLSIFjwu35ck"
      },
      "execution_count": null,
      "outputs": []
    },
    {
      "cell_type": "code",
      "source": [
        "logreg = LogisticRegression()\n",
        "logreg.fit(x_train, y_train)\n",
        "logreg_pred = logreg.predict(x_test)\n",
        "logreg_acc = accuracy_score(logreg_pred, y_test)\n",
        "print(\"Prediction accuracy for t20 WC: {:.2f}%\".format(logreg_acc*100))"
      ],
      "metadata": {
        "id": "32w60z3k4DmF"
      },
      "execution_count": null,
      "outputs": []
    },
    {
      "cell_type": "code",
      "source": [
        "print(confusion_matrix(y_test, logreg_pred))\n",
        "print(\"\\n\")\n",
        "print(classification_report(y_test, logreg_pred))"
      ],
      "metadata": {
        "id": "LJo11jZq4J0g"
      },
      "execution_count": null,
      "outputs": []
    }
  ]
}